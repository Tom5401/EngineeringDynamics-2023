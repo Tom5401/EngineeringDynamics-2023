{
 "cells": [
  {
   "cell_type": "markdown",
   "id": "4f7894a5",
   "metadata": {},
   "source": [
    "# Analysis"
   ]
  },
  {
   "cell_type": "code",
   "execution_count": null,
   "id": "8a4f3a84",
   "metadata": {},
   "outputs": [],
   "source": [
    "import numpy as np\n",
    "import sympy as sp\n",
    "from IPython.display import HTML\n",
    "import matplotlib.pyplot as plt\n",
    "import matplotlib.patches as patches\n",
    "from matplotlib import animation\n",
    "from sympy.physics.mechanics import dynamicsymbols, init_vprinting, vlatex, vprint, find_dynamicsymbols\n",
    "from sympy import symbols, Function, sin, cos, Matrix, pi, re, im\n",
    "from IPython.display import display, Markdown, Math\n",
    "init_vprinting()"
   ]
  },
  {
   "cell_type": "code",
   "execution_count": null,
   "id": "49cb9677",
   "metadata": {},
   "outputs": [],
   "source": [
    "Damping = False\n",
    "i = sp.I\n",
    "L, Lg, Jg, m1, m2, m3, lamda, t = symbols('L Lg Jg m1 m2 m3 lamda t')\n",
    "k1, k2, k3, k4, k5, kt3 = symbols('k1 k2 k3 k4 k5 kt3')\n",
    "c1, c2, c3, c4, c5, ct3 = symbols('c1 c2 c3 c4 c5 ct3')\n",
    "x0, x1, x2, x3, y3, theta = dynamicsymbols('x0 x1 x2 x3 y3 theta')\n",
    "\n",
    "# Optie 1 is zoals we hem hadden en ik heb een nieuwe optie toegevoegd waar theta in rust als 0 is gedfinieerd. Het geeft hetzelfde resultaat\n",
    "\n",
    "x4 = x3 + L * cos(theta)\n",
    "y4 = y3 + L * sin(theta)\n",
    "x3g = x3 + Lg * cos(theta)\n",
    "y3g = y3 + Lg * sin(theta)\n"
   ]
  },
  {
   "cell_type": "code",
   "execution_count": null,
   "id": "85212840",
   "metadata": {},
   "outputs": [],
   "source": [
    "dx0 = sp.diff(x0, t)\n",
    "dx1 = sp.diff(x1, t)\n",
    "dx2 = sp.diff(x2, t)\n",
    "dx3 = sp.diff(x3, t)\n",
    "dy3 = sp.diff(y3, t)\n",
    "dx3g = sp.diff(x3g, t)\n",
    "dy3g = sp.diff(y3g, t)\n",
    "dx4 = sp.diff(x4, t)\n",
    "dy4 = sp.diff(y4, t)\n",
    "dTheta = sp.diff(theta, t)\n",
    "\n",
    "ddx0 = sp.diff(dx0, t)\n",
    "ddx1 = sp.diff(dx1, t)\n",
    "ddx2 = sp.diff(dx2, t)\n",
    "ddx3 = sp.diff(dx3, t)\n",
    "ddy3 = sp.diff(dy3, t)\n",
    "ddTheta = sp.diff(dTheta, t)\n",
    "\n",
    "q = Matrix([x1, x2, x3, y3, theta])\n",
    "qDot = Matrix([dx1, dx2, dx3, dy3, dTheta])\n",
    "qDDot = Matrix([ddx1, ddx2, ddx3, ddy3, ddTheta])\n",
    "\n",
    "dq_zero = {\n",
    "    dx1: 0,\n",
    "    dx2: 0,\n",
    "    dx3: 0,\n",
    "    dy3: 0,\n",
    "    dTheta: 0}\n",
    "\n",
    "ddq_zero = {\n",
    "    ddx1: 0,\n",
    "    ddx2: 0,\n",
    "    ddx3: 0,\n",
    "    ddy3: 0,\n",
    "    ddTheta: 0}"
   ]
  },
  {
   "cell_type": "code",
   "execution_count": null,
   "id": "83a91b74-65e6-4609-bf68-8400d308eba0",
   "metadata": {},
   "outputs": [],
   "source": [
    "values = {\n",
    "    m1: 0.45,\n",
    "    m2: 1.15,\n",
    "    m3: 1.9,\n",
    "    Jg: 0.0149,\n",
    "    k1: 155.8*10**3,\n",
    "    k2: 23.6*10**3,\n",
    "    k3: 444.6*10**3,\n",
    "    k4: 415.4*10**3,\n",
    "    k5: 50.25*10**3,\n",
    "    kt3: 2,\n",
    "    c1: 30,\n",
    "    c2: 202.84,\n",
    "    c3: 500,\n",
    "    c4: 164.59,\n",
    "    c5: 49.99,\n",
    "    ct3: 4.9,\n",
    "    L: 0.298,\n",
    "    Lg: 0.6 * 0.298,\n",
    "}\n",
    "\n",
    "dynamicValues = {\n",
    "    theta: pi/2,\n",
    "    y3: 0,\n",
    "    dy3: 0,\n",
    "    ddy3: 0,\n",
    "    dTheta: 0,\n",
    "    ddTheta: 0,\n",
    "    x1: 0,\n",
    "    x2: 0,\n",
    "    x3: 0\n",
    "}"
   ]
  },
  {
   "cell_type": "markdown",
   "id": "ce0bedb3",
   "metadata": {},
   "source": [
    "# Energies"
   ]
  },
  {
   "cell_type": "code",
   "execution_count": null,
   "id": "5510fab6",
   "metadata": {},
   "outputs": [],
   "source": [
    "T = m1/2 * dx1 ** 2 + \\\n",
    "    m2/2 * dx2 ** 2 + \\\n",
    "    m3/2 * dx3g ** 2 + \\\n",
    "    m3/2 * dy3g ** 2 + \\\n",
    "    Jg/2 * dTheta ** 2\n",
    "display(Math(\"\"\"\\mathbf{T} = \"\"\" + vlatex(T)))"
   ]
  },
  {
   "cell_type": "code",
   "execution_count": null,
   "id": "673efb1d",
   "metadata": {},
   "outputs": [],
   "source": [
    "D = c1 / 2 * (dx0 - dx1) ** 2 + \\\n",
    "    c2 / 2 * (dx1 - dx2) ** 2 + \\\n",
    "    c3 / 2 * (dx2 - dx3) ** 2 + \\\n",
    "    c4 / 2 * dx4 ** 2 + \\\n",
    "    c5 / 2 * dy4 ** 2 + \\\n",
    "    ct3 / 2 * dTheta ** 2\n",
    "\n",
    "display(Math(\"\"\"\\mathbf{D} = \"\"\" + vlatex(D)))"
   ]
  },
  {
   "cell_type": "code",
   "execution_count": null,
   "id": "070147c9",
   "metadata": {
    "scrolled": true
   },
   "outputs": [],
   "source": [
    "V = k1 / 2 * (x0 - x1) ** 2 + \\\n",
    "    k2 / 2 * (x1 - x2) ** 2 + \\\n",
    "    k3 / 2 * (x2 - x3) ** 2 + \\\n",
    "    k4 / 2 * (x4-L*cos(pi/2)) ** 2 + \\\n",
    "    k5 / 2 * (y4-L*sin(pi/2)) ** 2 + \\\n",
    "    kt3 / 2 * (theta-pi/2) ** 2\n",
    "\n",
    "display(Math(\"\"\"\\mathbf{V} = \"\"\" + vlatex(V)))"
   ]
  },
  {
   "cell_type": "markdown",
   "id": "ff57d074",
   "metadata": {},
   "source": [
    "# EoM with Lagrange"
   ]
  },
  {
   "cell_type": "code",
   "execution_count": null,
   "id": "81ef50b9",
   "metadata": {},
   "outputs": [],
   "source": [
    "fT = (T.diff(qDot).diff(t) - T.diff(q)).simplify()\n",
    "fV = V.diff(q).simplify()\n",
    "fD = D.diff(qDot).simplify()\n",
    "Q_cons = (-V.diff(q) + D.diff(qDot)).simplify()\n",
    "\n",
    "display(Math(\"\"\"\\mathbf{f_T} = \"\"\" + vlatex(fT)))\n",
    "display(Math(\"\"\"\\mathbf{f_V} = \"\"\" + vlatex(fV)))\n",
    "display(Math(\"\"\"\\mathbf{f_D} = \"\"\" + vlatex(fD)))\n",
    "display(Math(\"\"\"\\mathbf{Q} = \"\"\" + vlatex(Q_cons)))"
   ]
  },
  {
   "cell_type": "code",
   "execution_count": null,
   "id": "46b7596c-1e8e-4c7b-b362-6488cc48fc2a",
   "metadata": {
    "scrolled": true
   },
   "outputs": [],
   "source": [
    "EoM = fT + fV + fD\n",
    "for j in EoM:\n",
    "    display(j)"
   ]
  },
  {
   "cell_type": "code",
   "execution_count": null,
   "id": "6f355223",
   "metadata": {},
   "outputs": [],
   "source": [
    "qEq = Q_cons.xreplace(dynamicValues).simplify()\n",
    "display(Math(\"\"\"\\mathbf{Q_{eq}} = \"\"\" + vlatex(qEq)))"
   ]
  },
  {
   "cell_type": "markdown",
   "id": "1d8387b6",
   "metadata": {},
   "source": [
    "# Linearization"
   ]
  },
  {
   "cell_type": "code",
   "execution_count": null,
   "id": "87d43199",
   "metadata": {},
   "outputs": [],
   "source": [
    "kMatrix = (fT + fV).jacobian(q)\n",
    "kMatrix_alt = fV.jacobian(q)# V.diff(q).jacobian(q)\n",
    "cMatrix = (fT + fD).jacobian(qDot)\n",
    "mMatrix = fT.jacobian(qDDot)\n",
    "\n",
    "kDotsReplace = kMatrix.xreplace(dq_zero).xreplace(ddq_zero)    # is hetzelfde als fV.jacobian(q)\n",
    "kDotsReplace_alt = kMatrix_alt.xreplace(dq_zero).xreplace(ddq_zero)\n",
    "cDotsReplace = cMatrix.xreplace(dq_zero).xreplace(ddq_zero)\n",
    "mDotsReplace = mMatrix.xreplace(dq_zero).xreplace(ddq_zero)    # is hetzelfde als T.diff(qDot).jacobian(qDot)\n",
    "\n",
    "kLinear = kDotsReplace.xreplace(dynamicValues)\n",
    "kLinear_alt = kDotsReplace_alt.xreplace(dynamicValues)\n",
    "cLinear = cDotsReplace.xreplace(dynamicValues)\n",
    "mLinear = mDotsReplace.xreplace(dynamicValues)"
   ]
  },
  {
   "cell_type": "code",
   "execution_count": null,
   "id": "24ec7620",
   "metadata": {},
   "outputs": [],
   "source": [
    "display(Math(\"\"\"\\mathbf{K_{Linear}} = \"\"\" + vlatex(kLinear)))\n",
    "\n",
    "#print(vlatex(M))"
   ]
  },
  {
   "cell_type": "code",
   "execution_count": null,
   "id": "f378d27b",
   "metadata": {},
   "outputs": [],
   "source": [
    "display(Math(\"\"\"\\mathbf{C_{Linear}} = \"\"\" + vlatex(cLinear)))"
   ]
  },
  {
   "cell_type": "code",
   "execution_count": null,
   "id": "e4cbc9da",
   "metadata": {},
   "outputs": [],
   "source": [
    "display(Math(\"\"\"\\mathbf{M_{Linear}} = \"\"\" + vlatex(mLinear)))"
   ]
  },
  {
   "cell_type": "markdown",
   "id": "47386de2",
   "metadata": {},
   "source": [
    "# Evaluation"
   ]
  },
  {
   "cell_type": "code",
   "execution_count": null,
   "id": "9e65e914-4a60-4a42-a30f-3ca4a0524f26",
   "metadata": {},
   "outputs": [],
   "source": [
    "I = sp.eye(mMatrix.shape[0], mMatrix.shape[1])\n",
    "zeroMatrix = sp.zeros(mMatrix.shape[0], mMatrix.shape[1])"
   ]
  },
  {
   "cell_type": "code",
   "execution_count": null,
   "id": "32d92b2b",
   "metadata": {},
   "outputs": [],
   "source": [
    "K = sp.simplify(kLinear.xreplace(values))\n",
    "K = K.applyfunc(sp.nsimplify)\n",
    "K"
   ]
  },
  {
   "cell_type": "code",
   "execution_count": null,
   "id": "e2ebd1b9",
   "metadata": {},
   "outputs": [],
   "source": [
    "C = sp.simplify(cLinear.xreplace(values))\n",
    "C = C.applyfunc(sp.nsimplify)\n",
    "C"
   ]
  },
  {
   "cell_type": "code",
   "execution_count": null,
   "id": "ac8d2911",
   "metadata": {},
   "outputs": [],
   "source": [
    "M = sp.simplify(mLinear.xreplace(values))\n",
    "M = M.applyfunc(sp.nsimplify)\n",
    "M"
   ]
  },
  {
   "cell_type": "code",
   "execution_count": null,
   "id": "8d0e55e2-6f8a-4eda-9695-25ab0cd8fd22",
   "metadata": {},
   "outputs": [],
   "source": [
    "# Undamped\n",
    "Eqk = (K - lamda**2*M)\n",
    "Lk = sp.solve(sp.Eq(Eqk.det(), 0))\n",
    "Lk = sp.Matrix(Lk).evalf()\n",
    "display(Math(\"\"\"\\mathbf{\\lambda_{undamped}} = \"\"\" + vlatex(Lk)))\n",
    "\n",
    "eigenVector = [Eqk.xreplace({lamda: Lk[1],}).eigenvects()]\n",
    "eigenVector.append(Eqk.xreplace({lamda: Lk[3],}).eigenvects())\n",
    "eigenVector.append(Eqk.xreplace({lamda: Lk[5],}).eigenvects())\n",
    "eigenVector.append(Eqk.xreplace({lamda: Lk[7],}).eigenvects())\n",
    "eigenVector.append(Eqk.xreplace({lamda: Lk[9],}).eigenvects())\n",
    "\n",
    "eigenvecs = []\n",
    "for i in eigenVector:\n",
    "    for j in i:\n",
    "        if abs(j[0]) < 1e-8:\n",
    "            eigenvecs.append(j[2][0].T)\n",
    "\n",
    "eigenVectors = sp.Matrix(eigenvecs).T\n",
    "\n",
    "x = [x1, x2, x3, y3, theta]\n",
    "eigenVectors"
   ]
  },
  {
   "cell_type": "code",
   "execution_count": null,
   "id": "309dbb02-70e1-4a8a-b2ed-b75812d0f5a2",
   "metadata": {},
   "outputs": [],
   "source": [
    "# Damped\n",
    "Eqs = (lamda**2*M+lamda*C+K)\n",
    "Zs = sp.solve(sp.Eq(Eqs.det(), 0))\n",
    "Zs = sp.Matrix(Zs).evalf()\n",
    "display(Math(\"\"\"\\mathbf{\\lambda_{damped}} = \"\"\" + vlatex(Zs)))\n",
    "\n",
    "\n",
    "eigenVectorsD = np.empty((0,5))\n",
    "eigenVectorsZero = Matrix([])\n",
    "for r in range(len(Zs)):\n",
    "    eigenVectorD = [Eqs.xreplace({lamda: Zs[r],}).eigenvects()]\n",
    "    for i in eigenVectorD:\n",
    "        for j in i:\n",
    "            if abs(j[0]) < 1e-8:\n",
    "                listJ = []\n",
    "                for x in range(len(j[2][0])):\n",
    "                    if abs(j[2][0][x]) < 1e-8:\n",
    "                        listJ.append(0)\n",
    "                    else:\n",
    "                        listJ.append(j[2][0][x])\n",
    "                eigenVectorsZero = eigenVectorsZero.col_insert(-1, Matrix([x for x in listJ]))\n",
    "                \n",
    "                eigenVectorsD = np.concatenate((eigenVectorsD,j[2][0].T))\n",
    "eigenVectorsD = Matrix(eigenVectorsZero)\n",
    "\n",
    "display(sp.N(eigenVectorsD, 5))\n"
   ]
  },
  {
   "cell_type": "markdown",
   "id": "cd7c2a6b-4871-4586-82c7-702080175365",
   "metadata": {},
   "source": [
    "# Eigenfrequency and eigenmodes"
   ]
  },
  {
   "cell_type": "markdown",
   "id": "2e81e9a2-d800-4db1-9a15-7d9d7fd0280a",
   "metadata": {},
   "source": [
    "### Undamped"
   ]
  },
  {
   "cell_type": "code",
   "execution_count": null,
   "id": "b4450120-3c1e-43a6-9420-a8b640a28b28",
   "metadata": {},
   "outputs": [],
   "source": [
    "# Undamped eigenfrequency and eigenmodes\n",
    "eigfreq_ud = np.array([Lk[1],Lk[3],Lk[5],Lk[7],Lk[9]]).T\n",
    "display(Math(\"\"\"\\mathbf{\\omega_{r}} = \"\"\" + vlatex(eigfreq_ud)))\n",
    "eigmode_ud = np.array(eigenVectors)\n",
    "display(Math(\"\"\"\\mathbf{x_{r}} = \"\"\" + vlatex(sp.Matrix(eigmode_ud))))"
   ]
  },
  {
   "cell_type": "code",
   "execution_count": null,
   "id": "3c220dad-264d-47b5-bbf8-13b62843173c",
   "metadata": {},
   "outputs": [],
   "source": [
    "# check for rigid body modes. There are none\n",
    "for j in eigmode_ud.T:\n",
    "    display(np.array(K).dot(j))\n"
   ]
  },
  {
   "cell_type": "code",
   "execution_count": null,
   "id": "ac9b6efd-98b5-4cfc-900a-e1d478bd515e",
   "metadata": {},
   "outputs": [],
   "source": [
    "# generalized stiffness (4.18)\n",
    "gamma_r = [(x.T).dot(K).dot(x) for x in eigmode_ud.T]\n",
    "display(Math(\"\"\"\\mathbf{\\gamma_{r}} = \"\"\" + vlatex(gamma_r)))\n",
    "\n",
    "# generalized mass (4.19)\n",
    "mu_r = [(x.T).dot(M).dot(x) for x in eigmode_ud.T]\n",
    "display(Math(\"\"\"\\mathbf{\\mu_{r}} = \"\"\" + vlatex(mu_r)))"
   ]
  },
  {
   "cell_type": "code",
   "execution_count": null,
   "id": "4e1f0046-577e-4f86-8c5e-15d619f8cde2",
   "metadata": {},
   "outputs": [],
   "source": [
    "# modal components intitial conditions (4.24)\n",
    "q_zero = np.array([0,0,0,0,0]).T\n",
    "dq_zero = np.array([0,0,0,0,0]).T\n",
    "eta_r0 = [(x.T).dot(M).dot(q_zero) for x in eigmode_ud.T]\n",
    "display(Math(\"\"\"\\mathbf{\\eta_{r}}(0) = \"\"\" + vlatex(eta_r0)))\n",
    "deta_r0 = [(x.T).dot(M).dot(dq_zero) for x in eigmode_ud.T]\n",
    "display(Math(\"\"\"\\mathbf{\\dot{\\eta}_{r}}(0) = \"\"\" + vlatex(deta_r0)))\n",
    "\n",
    "# inverse laplace transform hr (4.28)\n",
    "h_r =[sin(w*t)/w for w in eigfreq_ud]\n",
    "display(Math(\"\"\"\\mathbf{h_{r}}(t) = \"\"\" + vlatex(sp.Matrix(h_r))))\n",
    "\n",
    "# external forces from q matrix\n",
    "s,w = symbols('s w')\n",
    "x0_def = s*sin(w*t)\n",
    "pt = np.array([[k1*x0_def],[0],[0],[0],[0]])\n",
    "\n",
    "# modal participation factor (4.23)\n",
    "phi_r = []\n",
    "for j in range(5):\n",
    "    phi = (eigmode_ud[:,j].T).dot(pt) / mu_r[j]\n",
    "    phi_r.append(phi[0])\n",
    "display(Math(\"\"\"\\mathbf{\\phi_{r}}(t) = \"\"\" + vlatex(sp.Matrix(phi_r))))\n",
    "\n",
    "# solution for eta_r (4.29)\n",
    "tau = symbols('tau')\n",
    "eta_r = []\n",
    "for j in range(5):\n",
    "    duhamel_f = phi_r[j].xreplace({t:tau})*h_r[j].xreplace({t:(t-tau)})\n",
    "    duhamel_integral = sp.integrate(duhamel_f,(tau,0,t))\n",
    "    eta = eta_r0[j]*cos(eigfreq_ud[j]*t) + deta_r0[j]*h_r[j] + duhamel_integral\n",
    "    eta_r.append(sp.simplify(eta))\n",
    "display(Math(\"\"\"\\mathbf{\\eta_{r}}(t) = \"\"\" + vlatex(sp.Matrix(eta_r))))\n",
    "\n",
    "# system response q(t) (4.21)\n",
    "q_res_ud = np.zeros(5,)\n",
    "for j in range(5):\n",
    "    q_t = eta_r[j]*eigmode_ud[:,j]\n",
    "    q_res_ud = q_res_ud + q_t\n",
    "q_res_ud = sp.Matrix(q_res_ud)"
   ]
  },
  {
   "cell_type": "code",
   "execution_count": null,
   "id": "450d697d-1391-46bd-83d1-619c45ae749c",
   "metadata": {},
   "outputs": [],
   "source": [
    "# System response\n",
    "#w_value = np.double(eigfreq_ud[2]+0.001)\n",
    "w_value = 230\n",
    "s_value = 0.005\n",
    "x0_values = {w:w_value,\n",
    "             s:s_value}\n",
    "\n",
    "q_t_ud = q_res_ud.xreplace(x0_values).xreplace(values)\n",
    "t1 = 0\n",
    "t2 = 0.5\n",
    "delta_t = 0.001\n",
    "t_num = np.linspace(t1,t2-delta_t,int((t2-t1)/delta_t))\n",
    "q_num = np.array([q_t_ud.xreplace({t:ti}) for ti in t_num]).T.astype(np.float64)"
   ]
  },
  {
   "cell_type": "code",
   "execution_count": null,
   "id": "9c30bf23-dd02-4c3d-b0f2-26b1f7ba1d86",
   "metadata": {},
   "outputs": [],
   "source": [
    "# visualisation\n",
    "def plot_gen_coords(q,t_num,w):\n",
    "    plt.plot(t_num,q[0],label=r'$x1$')\n",
    "    plt.plot(t_num,q[1],label=r'$x2$')\n",
    "    plt.plot(t_num,q[2],label=r'$x3$')\n",
    "    plt.plot(t_num,q[3],label=r'$y3$')\n",
    "    plt.plot(t_num,q[4],label=r'$\\theta_3$')\n",
    "    plt.legend()\n",
    "    plt.title(\"System response for \" + r'$\\omega = $' + str(w) + ' rad/s')\n",
    "    plt.xlabel('Time (s)')\n",
    "    plt.ylabel('q')\n",
    "\n",
    "def animate_system(q,t_num,w,s):\n",
    "    scale = 0.2\n",
    "    m_size = scale\n",
    "    spring_size = scale\n",
    "    \n",
    "    x = q[2]\n",
    "    yaw = q[4]\n",
    "    fig, ax = plt.subplots()\n",
    "    fig.set_size_inches((6.0, 4.0))\n",
    "    ax.set_aspect('equal')\n",
    "    ax.set_xlim(-1.5*scale, 6*scale)\n",
    "    ax.set_ylim(-scale, 4*scale)\n",
    "    \n",
    "    m1_0 = (0,0)\n",
    "    m2_0 = (m_size+spring_size, 0)\n",
    "    m3_0 = (2*(m_size+spring_size), m_size/2)\n",
    "    \n",
    "    m1 = patches.Rectangle((m1_0[0], m1_0[1]), m_size, m_size, fc='grey')\n",
    "    m2 = patches.Rectangle((m2_0[0], m2_0[1]), m_size, m_size, fc='grey')\n",
    "    m3 = patches.ConnectionPatch((m3_0[0], m3_0[1]), (m3_0[0], m3_0[1]+2*m_size), coordsA=ax.transData,ec='grey',linewidth=5)\n",
    "    \n",
    "    g1 = patches.Circle((m1_0[0]-spring_size, m1_0[0] + m_size/2), radius=scale/20,fc='black')\n",
    "    g2 = patches.Circle((m3_0[0], m3_0[1]+2*m_size+spring_size), radius=scale/20,fc='black')\n",
    "    g3 = patches.Circle((m3_0[0]+spring_size, m3_0[1]+m_size*2), radius=scale/20,fc='black')\n",
    "    k1 = patches.ConnectionPatch((m1_0[0]-spring_size, m_size/2), (m1_0[0], m1_0[1]+m_size/2),coordsA=ax.transData)\n",
    "    k2 = patches.ConnectionPatch((m1_0[0]+m_size, m_size/2), (m2_0[0], m2_0[1]+m_size/2),coordsA=ax.transData)\n",
    "    k3 = patches.ConnectionPatch((m2_0[0]+m_size, m_size/2), (m3_0[0], m3_0[1]),coordsA=ax.transData)\n",
    "    k4 = patches.ConnectionPatch((m3_0[0], m3_0[1]+2*m_size), (m3_0[0]+spring_size, m3_0[1]+2*m_size),coordsA=ax.transData)\n",
    "    k5 = patches.ConnectionPatch((m3_0[0], m3_0[1]+2*m_size), (m3_0[0], m3_0[1]+2*m_size+spring_size),coordsA=ax.transData)\n",
    "\n",
    "    def init():\n",
    "        ax.add_patch(m1)\n",
    "        ax.add_patch(m2)\n",
    "        ax.add_patch(m3)\n",
    "        ax.add_patch(g1)\n",
    "        ax.add_patch(g2)\n",
    "        ax.add_patch(g3)\n",
    "        ax.add_patch(k1)\n",
    "        ax.add_patch(k2)\n",
    "        ax.add_patch(k3)\n",
    "        ax.add_patch(k4)\n",
    "        ax.add_patch(k5)\n",
    "        \n",
    "        return m1,m2,m3,g1,g2,g3,k1,k2,k3,k4,k5,\n",
    "    \n",
    "    def animate(i):\n",
    "        m1.set_xy([m1_0[0] + q[0][i], m1_0[1]])\n",
    "        m2.set_xy([m2_0[0] + q[1][i], m2_0[1]])\n",
    "        m3.xy1 = (m3_0[0] + q[2][i], m3_0[1] + q[3][i])\n",
    "        m3.xy2 = (m3_0[0] + q[2][i] + 2*m_size*np.cos(q[4][i]-np.pi/2), \n",
    "                  m3_0[1]-2*m_size*np.sin(q[4][i]-np.pi/2))\n",
    "        k1.xy2 = (m1_0[0] + q[0][i], m1_0[1]+m_size/2)\n",
    "        k2.xy1 = (m1_0[0] + m_size + q[0][i], m_size/2)\n",
    "        k2.xy2 = (m2_0[0] + q[1][i], m2_0[1]+m_size/2)\n",
    "        k3.xy1 = (m2_0[0] + m_size + q[1][i], m_size/2)\n",
    "        k3.xy2 = (m3_0[0] + q[2][i], m3_0[1] + q[3][i])\n",
    "        k4.xy1 = m3.xy2\n",
    "        k5.xy1 = m3.xy2\n",
    "\n",
    "        g1.center = (m1_0[0]-spring_size + s*np.sin(t_num[i]*w), m1_0[0] + m_size/2)\n",
    "        k1.xy1 = g1.center\n",
    "        return m1,m2,m3,k1,k2,k3,k4,k5,g1\n",
    "    \n",
    "    anim = animation.FuncAnimation(fig, animate,\n",
    "                                   init_func=init,\n",
    "                                   frames=len(x),\n",
    "                                   interval=500,\n",
    "                                   blit=True)\n",
    "    plt.close(fig)\n",
    "    \n",
    "    return HTML(anim.to_jshtml(fps=int(1/delta_t)))"
   ]
  },
  {
   "cell_type": "code",
   "execution_count": null,
   "id": "4b725284-58fd-4d9f-8f4b-ca3b0b34e70a",
   "metadata": {},
   "outputs": [],
   "source": [
    "plot_gen_coords(q_num[0],t_num,w_value)"
   ]
  },
  {
   "cell_type": "code",
   "execution_count": null,
   "id": "657dfeaf-1b52-436f-b69f-430272676713",
   "metadata": {},
   "outputs": [],
   "source": [
    "animate_system(q_num[0],t_num,w_value,s_value)"
   ]
  },
  {
   "cell_type": "markdown",
   "id": "8e7cd41d-a6cb-4d39-86d1-f8ccfa2fc7a0",
   "metadata": {},
   "source": [
    "### Damped"
   ]
  },
  {
   "cell_type": "code",
   "execution_count": null,
   "id": "abe818a9-489c-4215-93f7-bb7d731f262d",
   "metadata": {},
   "outputs": [],
   "source": [
    "# calculate first order damping coefficients beta_kk of the conservative system\n",
    "beta_kk = np.array([(x.T).dot(C).dot(x) for x in eigmode_ud.T])\n",
    "display(Math(\"\"\"\\mathbf{beta_{r}} = \"\"\" + vlatex(Matrix(beta_kk))))\n",
    "\n",
    "# damping ratio  (4.54)\n",
    "epsilon_r = (beta_kk/(2*eigfreq_ud*mu_r)).astype(float)\n",
    "display(Math(\"\"\"\\mathbf{\\epsilon_{r}} = \"\"\" + vlatex(Matrix(epsilon_r))))\n",
    "\n",
    "# external forces from q matrix including damping\n",
    "s,w = symbols('s w')\n",
    "x0_def = s*sin(w*t)\n",
    "ptD = qEq.xreplace({x0:x0_def}).doit()\n",
    "\n",
    "# modal participation factor with damped p(t) (4.23)\n",
    "phiD_r = []\n",
    "for j in range(5):\n",
    "    phiD = (eigmode_ud[:,j].T).dot(ptD) / mu_r[j]\n",
    "    phiD_r.append(phiD[0])\n",
    "display(Math(\"\"\"\\mathbf{\\phi_{damped}}(t) = \"\"\" + vlatex(sp.Matrix(phiD_r))))\n",
    "\n",
    "\n",
    "# inverse laplace transform hr from slides of lecture 14 from 2018\n",
    "omega_dr = np.multiply(eigfreq_ud,np.sqrt(1-np.square(epsilon_r)))\n",
    "hD_r = []\n",
    "for j in range(5):\n",
    "    hD = 1/omega_dr[j]*sp.exp(-epsilon_r[j]*eigfreq_ud[j]*t)*sp.sin(omega_dr[j]*t)\n",
    "    hD_r.append(hD)\n",
    "\n",
    "display(Math(\"\"\"\\mathbf{h_{damped}}(t) = \"\"\" + vlatex(sp.Matrix(hD_r))))\n"
   ]
  },
  {
   "cell_type": "code",
   "execution_count": null,
   "id": "bccd1850-67ec-48a7-b391-7d19e153c57d",
   "metadata": {},
   "outputs": [],
   "source": [
    "w_value = 230\n",
    "s_value = 0.0001\n",
    "x0_values = {w:w_value,\n",
    "              s:s_value}\n",
    "\n",
    "t1 = 0\n",
    "t2 = 0.5\n",
    "delta_t = 0.001\n",
    "t_num = np.linspace(t1,t2-delta_t,int((t2-t1)/delta_t))\n",
    "phi_eval = Matrix(phiD_r).xreplace(values).xreplace(x0_values)\n",
    "phi_num = np.array([phi_eval.xreplace({t:ti}) for ti in t_num]).T.astype(np.float64)[0]\n",
    "h_num = np.array([Matrix(hD_r).xreplace({t:ti}) for ti in t_num]).T.astype(np.float64)[0]\n",
    "\n",
    "# solution for eta_r with discrete convolution\n",
    "etaD_r = []\n",
    "etaDalt_r = []\n",
    "for j in range(5):\n",
    "    etaD = np.convolve(phi_num[j,:],h_num[j,:],mode='full')\n",
    "    etaD_r.append(etaD)\n",
    "etaD_r = np.array(etaD_r)[:len(t_num)]\n",
    "display(Math(\"\"\"\\mathbf{\\eta_{damped}}(t) = \"\"\" + vlatex(sp.Matrix(etaD_r))))\n",
    "\n",
    "\n",
    "# system response q(t)\n",
    "q_res_d = np.empty((5,))\n",
    "for tj in range(len(t_num)):\n",
    "    q_d = np.zeros(5,)\n",
    "    for j in range(5):\n",
    "        q_t = etaD_r[:,tj][j]*eigmode_ud[:,j]\n",
    "        q_d = q_d + q_t\n",
    "    q_res_d = np.column_stack((q_res_d, q_d))\n",
    "q_res_d = np.asarray(q_res_d).astype(np.float64)[:,1:]\n",
    "display(Math(\"\"\"\\mathbf{q_{damped}}(t) = \"\"\" + vlatex(sp.Matrix(q_res_d))))\n",
    "\n"
   ]
  },
  {
   "cell_type": "code",
   "execution_count": null,
   "id": "d061eac1-4743-40a1-94b2-933e4dd6e318",
   "metadata": {},
   "outputs": [],
   "source": [
    "#q_res_d[:,:100].shape\n",
    "plot_gen_coords(q_res_d,t_num,w_value)"
   ]
  },
  {
   "cell_type": "code",
   "execution_count": null,
   "id": "5fe514e3-3153-433f-80d6-a21bf0b9b0b8",
   "metadata": {},
   "outputs": [],
   "source": [
    "animate_system(q_res_d,t_num,w_value,s_value)"
   ]
  }
 ],
 "metadata": {
  "kernelspec": {
   "display_name": "Python 3 (ipykernel)",
   "language": "python",
   "name": "python3"
  },
  "language_info": {
   "codemirror_mode": {
    "name": "ipython",
    "version": 3
   },
   "file_extension": ".py",
   "mimetype": "text/x-python",
   "name": "python",
   "nbconvert_exporter": "python",
   "pygments_lexer": "ipython3",
   "version": "3.10.12"
  }
 },
 "nbformat": 4,
 "nbformat_minor": 5
}
